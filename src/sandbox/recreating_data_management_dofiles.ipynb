{
 "cells": [
  {
   "cell_type": "code",
   "execution_count": 17,
   "metadata": {},
   "outputs": [],
   "source": [
    "\"\"\" from src.config import SRC\n",
    "import pandas as pd\n",
    "import numpy as np\n",
    "import econtools\n",
    "\n",
    "## DO-File 1: Preparation.. Extension Data Managment\n",
    "data = pd.read_stata(SRC / \"original_data\" / \"decisions_data.dta\")\n",
    "data[\"ind_var\"] = data.groupby([\"wid\"])[\"jobschosen\"].transform(np.var) #new column with variances\n",
    "data.reindex(columns = data.columns.tolist() + ['ind_diff_pres','ind_diff_pred','ind_diff_pres_var','ind_diff_pred_var','ind_diff_pres_var_inv','ind_diff_pred_var_inv'])\n",
    "data = econtools.group_id(data, cols=['wage_group'], name= \"group\", merge= True) # adds column with distinct wage groups\n",
    "## Calculations of non-parametric measure for each individual.. to be continued\n",
    "\n",
    " \"\"\"\n",
    "\n",
    "\n"
   ]
  },
  {
   "cell_type": "code",
   "execution_count": 13,
   "metadata": {},
   "outputs": [
    {
     "data": {
      "text/plain": [
       "0    35.0\n",
       "1    28.0\n",
       "2     7.0\n",
       "3    23.0\n",
       "4    42.0\n",
       "Name: netdistance, dtype: float32"
      ]
     },
     "execution_count": 13,
     "metadata": {},
     "output_type": "execute_result"
    }
   ],
   "source": [
    "# Import the two datasets and drop subjects whose individual estimates do not converge\n",
    "from src.config import SRC\n",
    "import pandas as pd\n",
    "import numpy as np\n",
    "\n",
    "\n",
    "data = pd.read_stata(SRC / \"original_data\" / \"decisions_data.dta\")    # full sample\n",
    "ind_keep = pd.read_csv(SRC / \"original_data\" / \"ind_to_keep.csv\")   # import csv with ID of subjects to keep \n",
    "data = data[data.wid.isin(ind_keep.wid_col1)] # this is the primary sample for the aggregate estimates (72 individuals)\n",
    "\n",
    "data = data[data.bonusoffered != 1]  # remove observations where a bonus was offered\n",
    "data[\"pb\"] = data[\"workdone1\"] / 10\n",
    "    # workdone1 can either be 10 or 0: dividing the variable by 10 creates the dummy\n",
    "data[\"ind_effort10\"] = (data[\"effort\"] == 10).astype(int)  # ind_effort10 dummy\n",
    "data[\"ind_effort110\"] = (data[\"effort\"] == 110).astype(int)  # ind_effort110 dummy\n",
    "data.index = np.arange(len(data.wid))\n",
    "\n",
    "data[\"netdistance\"].head(5)\n"
   ]
  },
  {
   "cell_type": "code",
   "execution_count": 72,
   "metadata": {},
   "outputs": [
    {
     "name": "stdout",
     "output_type": "stream",
     "text": [
      "                                 OLS Regression Results                                \n",
      "=======================================================================================\n",
      "Dep. Variable:             jobschosen   R-squared (uncentered):              240079.891\n",
      "Model:                            OLS   Adj. R-squared (uncentered):         240101.880\n",
      "Method:                 Least Squares   F-statistic:                              378.5\n",
      "Date:                Mon, 21 Feb 2022   Prob (F-statistic):                    1.34e-35\n",
      "Time:                        13:25:08   Log-Likelihood:                         -53938.\n",
      "No. Observations:               10919   AIC:                                  1.079e+05\n",
      "Df Residuals:                   10918   BIC:                                  1.079e+05\n",
      "Df Model:                           1                                                  \n",
      "Covariance Type:              cluster                                                  \n",
      "==============================================================================\n",
      "                 coef    std err          z      P>|z|      [0.025      0.975]\n",
      "------------------------------------------------------------------------------\n",
      "wage         270.2008     13.889     19.455      0.000     242.980     297.422\n",
      "==============================================================================\n",
      "Omnibus:                       34.026   Durbin-Watson:                   0.896\n",
      "Prob(Omnibus):                  0.000   Jarque-Bera (JB):               31.271\n",
      "Skew:                           0.096   Prob(JB):                     1.62e-07\n",
      "Kurtosis:                       2.821   Cond. No.                         1.00\n",
      "==============================================================================\n",
      "\n",
      "Notes:\n",
      "[1] R² is computed without centering (uncentered) since the model does not contain a constant.\n",
      "[2] Standard Errors are robust to cluster correlation (cluster)\n"
     ]
    },
    {
     "ename": "ValueError",
     "evalue": "0.16161186 is not in list",
     "output_type": "error",
     "traceback": [
      "\u001b[1;31m---------------------------------------------------------------------------\u001b[0m",
      "\u001b[1;31mValueError\u001b[0m                                Traceback (most recent call last)",
      "Input \u001b[1;32mIn [72]\u001b[0m, in \u001b[0;36m<module>\u001b[1;34m\u001b[0m\n\u001b[0;32m      4\u001b[0m reg_model \u001b[38;5;241m=\u001b[39m sm\u001b[38;5;241m.\u001b[39mOLS(data[\u001b[38;5;124m\"\u001b[39m\u001b[38;5;124mjobschosen\u001b[39m\u001b[38;5;124m\"\u001b[39m],data[\u001b[38;5;124m\"\u001b[39m\u001b[38;5;124mwage\u001b[39m\u001b[38;5;124m\"\u001b[39m])\u001b[38;5;241m.\u001b[39mfit(cov_type\u001b[38;5;241m=\u001b[39m\u001b[38;5;124m'\u001b[39m\u001b[38;5;124mcluster\u001b[39m\u001b[38;5;124m'\u001b[39m, cov_kwds\u001b[38;5;241m=\u001b[39m{\u001b[38;5;124m'\u001b[39m\u001b[38;5;124mgroups\u001b[39m\u001b[38;5;124m'\u001b[39m: data[\u001b[38;5;124m'\u001b[39m\u001b[38;5;124mwid\u001b[39m\u001b[38;5;124m'\u001b[39m]})\n\u001b[0;32m      5\u001b[0m \u001b[38;5;28mprint\u001b[39m(reg_model\u001b[38;5;241m.\u001b[39msummary())\n\u001b[1;32m----> 7\u001b[0m fig \u001b[38;5;241m=\u001b[39m \u001b[43msm\u001b[49m\u001b[38;5;241;43m.\u001b[39;49m\u001b[43mgraphics\u001b[49m\u001b[38;5;241;43m.\u001b[39;49m\u001b[43mplot_fit\u001b[49m\u001b[43m(\u001b[49m\u001b[43mreg_model\u001b[49m\u001b[43m,\u001b[49m\u001b[43m \u001b[49m\u001b[43mnp\u001b[49m\u001b[38;5;241;43m.\u001b[39;49m\u001b[43mmean\u001b[49m\u001b[43m(\u001b[49m\u001b[43mdata\u001b[49m\u001b[43m[\u001b[49m\u001b[38;5;124;43m\"\u001b[39;49m\u001b[38;5;124;43mwage\u001b[39;49m\u001b[38;5;124;43m\"\u001b[39;49m\u001b[43m]\u001b[49m\u001b[43m)\u001b[49m\u001b[43m)\u001b[49m\n\u001b[0;32m      8\u001b[0m fig\u001b[38;5;241m.\u001b[39mtight_layout(pad\u001b[38;5;241m=\u001b[39m\u001b[38;5;241m1.0\u001b[39m)\n",
      "File \u001b[1;32mC:\\Anaconda\\anaconda3\\envs\\replication_ar2018\\lib\\site-packages\\statsmodels\\graphics\\regressionplots.py:141\u001b[0m, in \u001b[0;36mplot_fit\u001b[1;34m(results, exog_idx, y_true, ax, vlines, **kwargs)\u001b[0m\n\u001b[0;32m     78\u001b[0m \u001b[38;5;124;03m\"\"\"\u001b[39;00m\n\u001b[0;32m     79\u001b[0m \u001b[38;5;124;03mPlot fit against one regressor.\u001b[39;00m\n\u001b[0;32m     80\u001b[0m \n\u001b[1;32m   (...)\u001b[0m\n\u001b[0;32m    136\u001b[0m \u001b[38;5;124;03m.. plot:: plots/graphics_plot_fit_ex.py\u001b[39;00m\n\u001b[0;32m    137\u001b[0m \u001b[38;5;124;03m\"\"\"\u001b[39;00m\n\u001b[0;32m    139\u001b[0m fig, ax \u001b[38;5;241m=\u001b[39m utils\u001b[38;5;241m.\u001b[39mcreate_mpl_ax(ax)\n\u001b[1;32m--> 141\u001b[0m exog_name, exog_idx \u001b[38;5;241m=\u001b[39m \u001b[43mutils\u001b[49m\u001b[38;5;241;43m.\u001b[39;49m\u001b[43mmaybe_name_or_idx\u001b[49m\u001b[43m(\u001b[49m\u001b[43mexog_idx\u001b[49m\u001b[43m,\u001b[49m\u001b[43m \u001b[49m\u001b[43mresults\u001b[49m\u001b[38;5;241;43m.\u001b[39;49m\u001b[43mmodel\u001b[49m\u001b[43m)\u001b[49m\n\u001b[0;32m    142\u001b[0m results \u001b[38;5;241m=\u001b[39m maybe_unwrap_results(results)\n\u001b[0;32m    144\u001b[0m \u001b[38;5;66;03m#maybe add option for wendog, wexog\u001b[39;00m\n",
      "File \u001b[1;32mC:\\Anaconda\\anaconda3\\envs\\replication_ar2018\\lib\\site-packages\\statsmodels\\graphics\\utils.py:112\u001b[0m, in \u001b[0;36mmaybe_name_or_idx\u001b[1;34m(idx, model)\u001b[0m\n\u001b[0;32m    110\u001b[0m \u001b[38;5;28;01melse\u001b[39;00m: \u001b[38;5;66;03m# assume we've got a string variable\u001b[39;00m\n\u001b[0;32m    111\u001b[0m     exog_name \u001b[38;5;241m=\u001b[39m idx\n\u001b[1;32m--> 112\u001b[0m     exog_idx \u001b[38;5;241m=\u001b[39m \u001b[43mmodel\u001b[49m\u001b[38;5;241;43m.\u001b[39;49m\u001b[43mexog_names\u001b[49m\u001b[38;5;241;43m.\u001b[39;49m\u001b[43mindex\u001b[49m\u001b[43m(\u001b[49m\u001b[43midx\u001b[49m\u001b[43m)\u001b[49m\n\u001b[0;32m    114\u001b[0m \u001b[38;5;28;01mreturn\u001b[39;00m exog_name, exog_idx\n",
      "\u001b[1;31mValueError\u001b[0m: 0.16161186 is not in list"
     ]
    },
    {
     "data": {
      "image/png": "[encoded data removed]",
      "text/plain": [
       "<Figure size 432x288 with 1 Axes>"
      ]
     },
     "metadata": {
      "needs_background": "light"
     },
     "output_type": "display_data"
    }
   ],
   "source": [
    "\"\"\" import plotly.express as px\n",
    "import statsmodels.api as sm\n",
    "import plotly.graph_objects as go\n",
    "reg_model = sm.OLS(data[\"jobschosen\"],data[\"wage\"]).fit(cov_type='cluster', cov_kwds={'groups': data['wid']})\n",
    "print(reg_model.summary())\n",
    "\n",
    "fig = sm.graphics.plot_fit(reg_model, np.mean(data[\"wage\"]))\n",
    "fig.tight_layout(pad=1.0)\n",
    " \"\"\""
   ]
  }
 ],
 "metadata": {
  "interpreter": {
   "hash": "833ac860251d5af2c71a70a8a65303e8634a934c6d3c5989d90bcd8b72883140"
  },
  "kernelspec": {
   "display_name": "Python 3.9.10 64-bit ('replication_ar2018': conda)",
   "language": "python",
   "name": "python3"
  },
  "language_info": {
   "codemirror_mode": {
    "name": "ipython",
    "version": 3
   },
   "file_extension": ".py",
   "mimetype": "text/x-python",
   "name": "python",
   "nbconvert_exporter": "python",
   "pygments_lexer": "ipython3",
   "version": "3.9.10"
  },
  "orig_nbformat": 4
 },
 "nbformat": 4,
 "nbformat_minor": 2
}
